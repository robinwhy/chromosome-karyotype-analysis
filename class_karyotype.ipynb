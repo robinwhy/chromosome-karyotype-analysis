{
 "cells": [
  {
   "cell_type": "code",
   "execution_count": 2,
   "metadata": {},
   "outputs": [],
   "source": [
    "# import zipfile\n",
    "# zip_ref = zipfile.ZipFile(\"../BioImLab_SingleChromosomes.zip\", 'r')\n",
    "# zip_ref.extractall(\"../\")\n",
    "# zip_ref.close()"
   ]
  },
  {
   "cell_type": "code",
   "execution_count": null,
   "metadata": {},
   "outputs": [],
   "source": [
    "from tensorflow.compat.v1 import ConfigProto\n",
    "from tensorflow.compat.v1 import InteractiveSession\n",
    "config = ConfigProto()\n",
    "config.gpu_options.allow_growth = True\n",
    "session = InteractiveSession(config=config)"
   ]
  },
  {
   "cell_type": "code",
   "execution_count": 1,
   "metadata": {},
   "outputs": [
    {
     "name": "stderr",
     "output_type": "stream",
     "text": [
      "Using TensorFlow backend.\n"
     ]
    }
   ],
   "source": [
    "import numpy as np\n",
    "import tensorflow as tf\n",
    "import keras\n",
    "from keras.models import Sequential\n",
    "from keras.layers import Dense, Dropout, Activation, Flatten,Reshape,Input\n",
    "from keras.layers import Convolution2D, MaxPooling2D\n",
    "from keras.layers.recurrent import LSTM,GRU\n",
    "from keras.preprocessing import image\n",
    "from keras.models import Model\n",
    "from keras.optimizers import SGD,Adam\n",
    "from keras.callbacks import ModelCheckpoint\n",
    "from sklearn.metrics import matthews_corrcoef\n",
    "from sklearn.metrics import hamming_loss\n",
    "from keras import backend as K\n",
    "import os\n",
    "from skimage import io,color,data\n",
    "from skimage.transform import resize\n",
    "import matplotlib.pyplot as plt\n",
    "# K.set_image_dim_ordering('tf')"
   ]
  },
  {
   "cell_type": "code",
   "execution_count": 3,
   "metadata": {},
   "outputs": [],
   "source": [
    "# folder =\"../single_chromosomes/38\"\n",
    "# images = [f for f in os.listdir(folder) if os.path.isfile(os.path.join(folder, f))]\n",
    "# for j in images:\n",
    "#     img = data.imread(os.path.join(folder, j),as_gray=True)\n",
    "#     rows,cols=img.shape\n",
    "#     borderrow=int(round(rows/4))\n",
    "#     bordercol=int(round(cols/4))\n",
    "#     dst1=img[borderrow:rows-borderrow,bordercol:cols-bordercol]\n",
    "#     plt.subplot(121),plt.imshow(img,'gray'),plt.title('ORIGINAL')\n",
    "#     plt.subplot(122),plt.imshow(dst1,'gray'),plt.title('Cropped')\n",
    "#     plt.show()"
   ]
  },
  {
   "cell_type": "code",
   "execution_count": 2,
   "metadata": {},
   "outputs": [
    {
     "name": "stdout",
     "output_type": "stream",
     "text": [
      "<class 'list'> 4732\n"
     ]
    }
   ],
   "source": [
    "import h5py\n",
    "from sklearn.model_selection import train_test_split\n",
    "image_path = \"../karyotype_segment\"     # images\n",
    "y=[]\n",
    "x = []\n",
    "for _, dirnames, filenames in os.walk(\"../karyotype_segment\"):\n",
    "  # ^ this idiom means \"we won't be using this value\"\n",
    "    for d in dirnames:\n",
    "        folder = image_path + \"/\" + d\n",
    "        if os.path.isdir(folder):\n",
    "            images = [f for f in os.listdir(folder) if os.path.isfile(os.path.join(folder, f))]\n",
    "            for j in images:\n",
    "                img = data.imread(os.path.join(folder, j),as_gray=True)\n",
    "                rows,cols=img.shape\n",
    "                try:\n",
    "                    img = resize(img,(128,128,3))\n",
    "                except BaseException:\n",
    "                    print(os.path.join(folder, j))\n",
    "#                 img2=np.fliplr(img)\n",
    "                x.append(img)\n",
    "#                 x.append(img2)\n",
    "                y.append(int(j[:-5])-1)\n",
    "#                 y.append(int(j[:-5])-1)\n",
    "print(type(y),len(y))\n",
    "x = np.array(x)\n",
    "y=np.array(y)\n",
    "x_train , x_test, y_train, y_test = train_test_split(x,y,test_size=0.5)"
   ]
  },
  {
   "cell_type": "code",
   "execution_count": 3,
   "metadata": {},
   "outputs": [
    {
     "name": "stdout",
     "output_type": "stream",
     "text": [
      "(2366, 128, 128, 3) (128, 128, 3) <class 'numpy.ndarray'>\n"
     ]
    }
   ],
   "source": [
    "x_train = x_train.astype('float32')\n",
    "x_test  = x_test.astype('float32')\n",
    "print(x_train.shape,x_train[0].shape,type(x_train[0]))"
   ]
  },
  {
   "cell_type": "code",
   "execution_count": 17,
   "metadata": {},
   "outputs": [],
   "source": [
    "# for i in range(5):\n",
    "#     plt.subplot(111),plt.imshow(x_train[i])\n",
    "#     plt.show()"
   ]
  },
  {
   "cell_type": "code",
   "execution_count": null,
   "metadata": {},
   "outputs": [
    {
     "name": "stdout",
     "output_type": "stream",
     "text": [
      "WARNING:tensorflow:From /home/hywang/anaconda3/envs/tensorflow/lib/python3.6/site-packages/tensorflow/python/framework/op_def_library.py:263: colocate_with (from tensorflow.python.framework.ops) is deprecated and will be removed in a future version.\n",
      "Instructions for updating:\n",
      "Colocations handled automatically by placer.\n"
     ]
    }
   ],
   "source": [
    "# model = Sequential()\n",
    "# # Conv layer 1 output shape (64, 120, 120)\n",
    "# model.add(Convolution2D(\n",
    "#     batch_input_shape=(None, 1, 120, 120),\n",
    "#     filters=64,\n",
    "#     kernel_size=5,\n",
    "#     strides=1,\n",
    "#     padding='same',     # Padding method\n",
    "#     data_format='channels_first',\n",
    "# ))\n",
    "# model.add(Convolution2D(\n",
    "#     batch_input_shape=(None, 1, 120, 120),\n",
    "#     filters=64,\n",
    "#     kernel_size=5,\n",
    "#     strides=1,\n",
    "#     padding='same',     # Padding method\n",
    "#     data_format='channels_first',\n",
    "# ))\n",
    "# model.add(Activation('relu'))\n",
    "# # Pooling layer 1 (max pooling) output shape (64, 60, 60)\n",
    "# model.add(MaxPooling2D(\n",
    "#     pool_size=2,\n",
    "#     strides=2,\n",
    "#     padding='same',    # Padding method\n",
    "#     data_format='channels_first',\n",
    "# ))\n",
    "\n",
    "# # Conv layer 2 output shape (32, 60, 60)\n",
    "# model.add(Convolution2D(32, 5, strides=1, padding='same', data_format='channels_first'))\n",
    "# model.add(Convolution2D(32, 5, strides=1, padding='same', data_format='channels_first'))\n",
    "# model.add(Activation('relu'))\n",
    "\n",
    "# # Pooling layer 2 (max pooling) output shape (32, 30, 30)\n",
    "# model.add(MaxPooling2D(2, 2, 'same', data_format='channels_first'))\n",
    "\n",
    "# # Conv layer 3 output shape (16, 30, 30)\n",
    "# model.add(Convolution2D(16, 5, strides=1, padding='same', data_format='channels_first'))\n",
    "# model.add(Convolution2D(16, 5, strides=1, padding='same', data_format='channels_first'))\n",
    "# model.add(Activation('relu'))\n",
    "# # Pooling layer 3 (max pooling) output shape (16, 15, 15)\n",
    "# model.add(MaxPooling2D(2, 2, 'same', data_format='channels_first'))\n",
    "\n",
    "# # Conv layer 4 output shape (8, 15, 15)\n",
    "# model.add(Convolution2D(8, 5, strides=1, padding='same', data_format='channels_first'))\n",
    "# model.add(Convolution2D(8, 5, strides=1, padding='same', data_format='channels_first'))\n",
    "# model.add(Activation('relu'))\n",
    "# # Pooling layer 4 (max pooling)\n",
    "# model.add(MaxPooling2D(2, 2, 'same', data_format='channels_first'))\n",
    "\n",
    "# # Fully connected layer 1 input shape (8 * 7 * 7), output shape (1024)\n",
    "# model.add(Flatten())\n",
    "# model.add(Dense(1024))\n",
    "# model.add(Activation('sigmoid'))\n",
    "\n",
    "# # Fully connected layer 2 input shape (1024), output shape (512)\n",
    "# model.add(Flatten())\n",
    "# model.add(Dense(512))\n",
    "# model.add(Activation('sigmoid'))\n",
    "\n",
    "# # Fully connected layer 3 to shape (25) for 25 classes\n",
    "# model.add(Dense(23))\n",
    "# model.add(Activation('softmax'))\n",
    "\n",
    "# # Another way to define your optimizer\n",
    "# adam = Adam(lr=1e-4)  \n",
    "# model.compile(optimizer=adam,\n",
    "#               loss='categorical_crossentropy',\n",
    "#               metrics=['accuracy'])"
   ]
  },
  {
   "cell_type": "code",
   "execution_count": null,
   "metadata": {},
   "outputs": [],
   "source": [
    "#  model.summary()"
   ]
  },
  {
   "cell_type": "code",
   "execution_count": null,
   "metadata": {},
   "outputs": [],
   "source": [
    "history=model.fit(x_train, y_train,batch_size=32,epochs=12,validation_split=0.1)"
   ]
  },
  {
   "cell_type": "code",
   "execution_count": null,
   "metadata": {},
   "outputs": [],
   "source": [
    "plt.plot(history.history['loss'])\n",
    "plt.plot(history.history['val_loss'])\n",
    "plt.title('model loss')\n",
    "plt.ylabel('loss')\n",
    "plt.xlabel('epoch')\n",
    "plt.legend(['train', 'test'], loc='upper left')\n",
    "plt.show()"
   ]
  },
  {
   "cell_type": "code",
   "execution_count": null,
   "metadata": {},
   "outputs": [],
   "source": [
    "model.evaluate(x_test, y_test)"
   ]
  },
  {
   "cell_type": "code",
   "execution_count": null,
   "metadata": {},
   "outputs": [
    {
     "name": "stdout",
     "output_type": "stream",
     "text": [
      "WARNING:tensorflow:From /home/hywang/anaconda3/envs/tensorflow/lib/python3.6/site-packages/tensorflow/python/framework/op_def_library.py:263: colocate_with (from tensorflow.python.framework.ops) is deprecated and will be removed in a future version.\n",
      "Instructions for updating:\n",
      "Colocations handled automatically by placer.\n"
     ]
    }
   ],
   "source": [
    "from keras.applications.densenet import DenseNet201\n",
    "from keras.preprocessing import image\n",
    "from keras.models import Model\n",
    "base_model=DenseNet201(weights= None, include_top=False, input_shape= (128,128,3))\n",
    "x = base_model.output\n",
    "x=Flatten()(x)\n",
    "predictions = Dense(23, activation= 'softmax')(x)\n",
    "model = Model(inputs = base_model.input, outputs = predictions)\n",
    "adam=Adam(lr=0.0001)\n",
    "model.compile(loss='sparse_categorical_crossentropy', optimizer=adam, metrics=['accuracy'])"
   ]
  },
  {
   "cell_type": "code",
   "execution_count": null,
   "metadata": {},
   "outputs": [],
   "source": [
    "history=model.fit(x_train, y_train,batch_size=16,epochs=5,validation_split=0.1)"
   ]
  },
  {
   "cell_type": "code",
   "execution_count": 13,
   "metadata": {},
   "outputs": [
    {
     "data": {
      "image/png": "[encoded data removed]",
      "text/plain": [
       "<Figure size 432x288 with 1 Axes>"
      ]
     },
     "metadata": {
      "needs_background": "light"
     },
     "output_type": "display_data"
    }
   ],
   "source": [
    "plt.plot(history.history['loss'])\n",
    "plt.plot(history.history['val_loss'])\n",
    "plt.title('model loss')\n",
    "plt.ylabel('loss')\n",
    "plt.xlabel('epoch')\n",
    "plt.legend(['train', 'test'], loc='upper left')\n",
    "plt.show()"
   ]
  },
  {
   "cell_type": "code",
   "execution_count": 2,
   "metadata": {},
   "outputs": [
    {
     "ename": "NameError",
     "evalue": "name 'model' is not defined",
     "output_type": "error",
     "traceback": [
      "\u001b[0;31m---------------------------------------------------------------------------\u001b[0m",
      "\u001b[0;31mNameError\u001b[0m                                 Traceback (most recent call last)",
      "\u001b[0;32m<ipython-input-2-113a54cbdef7>\u001b[0m in \u001b[0;36m<module>\u001b[0;34m\u001b[0m\n\u001b[0;32m----> 1\u001b[0;31m \u001b[0mmodel\u001b[0m\u001b[0;34m.\u001b[0m\u001b[0mevaluate\u001b[0m\u001b[0;34m(\u001b[0m\u001b[0mx_test\u001b[0m\u001b[0;34m,\u001b[0m \u001b[0my_test\u001b[0m\u001b[0;34m)\u001b[0m\u001b[0;34m\u001b[0m\u001b[0;34m\u001b[0m\u001b[0m\n\u001b[0m",
      "\u001b[0;31mNameError\u001b[0m: name 'model' is not defined"
     ]
    }
   ],
   "source": [
    "model.evaluate(x_test, y_test)"
   ]
  },
  {
   "cell_type": "code",
   "execution_count": 8,
   "metadata": {},
   "outputs": [
    {
     "name": "stdout",
     "output_type": "stream",
     "text": [
      "[12, 21, 13, 22, 4, 15, 21, 16, 12, 13, 0, 11, 7, 8, 18, 8, 3, 3, 9, 6, 9, 14, 19, 15, 16, 2, 18, 10, 7, 10, 17, 6, 20, 14, 20, 11, 5, 1, 5, 22, 4, 19, 2, 1, 0, 17]\n",
      "[]\n"
     ]
    }
   ],
   "source": [
    "testfolder=\"../karyotype_segment/36424N\"\n",
    "testx=[]\n",
    "testy=[]\n",
    "images = [f for f in os.listdir(testfolder) if os.path.isfile(os.path.join(testfolder, f))]\n",
    "for j in images:\n",
    "    img = io.imread(os.path.join(testfolder, j))\n",
    "#     img_gray=color.rgb2gray(img)\n",
    "#     print(img.shape)\n",
    "    img = resize(img,(128,128,3))\n",
    " #         img=np.transpose(img,(2,0,1))\n",
    "    testx.append(img)\n",
    "    testy.append(int(j[:-5])-1)\n",
    "testx = np.array(testx)\n",
    "testy=np.array(testy)\n",
    "error=[]\n",
    "predictions = [np.argmax(i) for i in model.predict(testx)]\n",
    "print(predictions)\n",
    "for i in range(0,46):\n",
    "    if predictions[i]!=testy[i]:\n",
    "        error.append(testy[i])\n",
    "print(error)"
   ]
  },
  {
   "cell_type": "code",
   "execution_count": null,
   "metadata": {},
   "outputs": [],
   "source": []
  }
 ],
 "metadata": {
  "kernelspec": {
   "display_name": "kernel_for_tensorflow",
   "language": "python",
   "name": "kernel_for_tensorflow"
  },
  "language_info": {
   "codemirror_mode": {
    "name": "ipython",
    "version": 3
   },
   "file_extension": ".py",
   "mimetype": "text/x-python",
   "name": "python",
   "nbconvert_exporter": "python",
   "pygments_lexer": "ipython3",
   "version": "3.6.8"
  }
 },
 "nbformat": 4,
 "nbformat_minor": 2
}
